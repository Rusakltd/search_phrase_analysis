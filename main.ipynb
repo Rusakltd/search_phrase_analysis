{
 "cells": [
  {
   "cell_type": "code",
   "execution_count": 11,
   "metadata": {},
   "outputs": [],
   "source": [
    "import pandas as pd\n",
    "from openpyxl import load_workbook\n",
    "from collections import defaultdict"
   ]
  },
  {
   "cell_type": "code",
   "execution_count": 12,
   "metadata": {},
   "outputs": [],
   "source": [
    "# Load the workbook and select the active sheet\n",
    "wb = load_workbook('export.xlsx')\n",
    "sheet = wb.active\n",
    "\n",
    "# Delete the first four rows (assuming you want to skip them)\n",
    "sheet.delete_rows(0, 4)\n",
    "\n",
    "# Create the DataFrame with the first row as column names\n",
    "df = pd.DataFrame(sheet.values, columns=[cell.value for cell in next(sheet.rows)])\n",
    "\n",
    "# Delete the first row\n",
    "df.drop(0, inplace=True)"
   ]
  },
  {
   "cell_type": "code",
   "execution_count": 14,
   "metadata": {},
   "outputs": [],
   "source": [
    "df = df[['Поисковый запрос', 'Показы', 'Клики', 'Расход (руб.)', 'Конверсии']]"
   ]
  },
  {
   "cell_type": "code",
   "execution_count": 15,
   "metadata": {},
   "outputs": [],
   "source": [
    "df.columns = ['search phrase', 'impressions', 'clicks', 'spent', 'conversions']\n",
    "df['conversions'] = df['conversions'].replace('-','0')\n",
    "df['conversions'] = pd.to_numeric(df['conversions'])"
   ]
  },
  {
   "cell_type": "code",
   "execution_count": 17,
   "metadata": {},
   "outputs": [],
   "source": [
    "# Initialize defaultdict to store aggregated metrics\n",
    "word_metrics = defaultdict(lambda: {'impressions': 0, 'clicks': 0, 'spent':0, 'conversions': 0})\n",
    "\n",
    "# Iterate through each row in DataFrame\n",
    "for index, row in df.iterrows():\n",
    "    search_phrase = row['search phrase']\n",
    "    impressions = row['impressions']\n",
    "    clicks = row['clicks']\n",
    "    spent = row['spent']\n",
    "    conversions = row['conversions']\n",
    "    \n",
    "    # Split search phrase into words\n",
    "    words = search_phrase.split()\n",
    "    \n",
    "    # Update aggregated metrics for each word\n",
    "    for word in words:\n",
    "        word_metrics[word]['impressions'] += impressions\n",
    "        word_metrics[word]['clicks'] += clicks\n",
    "        word_metrics[word]['spent'] += spent\n",
    "        word_metrics[word]['conversions'] += conversions\n",
    "\n",
    "# Create DataFrame from aggregated metrics\n",
    "word_df = pd.DataFrame.from_dict(word_metrics, orient='index').reset_index()\n",
    "word_df.columns = ['word', 'impressions', 'clicks', 'spent', 'conversions']\n",
    "\n",
    "# Save DataFrame to Excel\n",
    "word_df.to_excel('output.xlsx', index=False)"
   ]
  }
 ],
 "metadata": {
  "kernelspec": {
   "display_name": "Python 3",
   "language": "python",
   "name": "python3"
  },
  "language_info": {
   "codemirror_mode": {
    "name": "ipython",
    "version": 3
   },
   "file_extension": ".py",
   "mimetype": "text/x-python",
   "name": "python",
   "nbconvert_exporter": "python",
   "pygments_lexer": "ipython3",
   "version": "3.11.0"
  }
 },
 "nbformat": 4,
 "nbformat_minor": 2
}
